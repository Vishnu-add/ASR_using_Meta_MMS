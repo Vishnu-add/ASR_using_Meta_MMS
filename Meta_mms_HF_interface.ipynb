{
 "cells": [
  {
   "cell_type": "code",
   "execution_count": null,
   "id": "eec5ffb2",
   "metadata": {},
   "outputs": [],
   "source": [
    "from transformers import Wav2Vec2ForCTC, AutoProcessor\n",
    "import torch\n",
    "from transformers import Wav2Vec2ForSequenceClassification, AutoFeatureExtractor\n",
    "import time\n",
    "import librosa"
   ]
  },
  {
   "cell_type": "code",
   "execution_count": null,
   "id": "9f3bab99",
   "metadata": {},
   "outputs": [],
   "source": [
    "model_id = \"facebook/mms-1b-all\"\n",
    "\n",
    "processor = AutoProcessor.from_pretrained(model_id)\n",
    "model = Wav2Vec2ForCTC.from_pretrained(model_id)"
   ]
  },
  {
   "cell_type": "code",
   "execution_count": null,
   "id": "2beaf49c",
   "metadata": {},
   "outputs": [],
   "source": [
    "model_id_lid = \"facebook/mms-lid-126\"\n",
    "\n",
    "processor_lid = AutoFeatureExtractor.from_pretrained(model_id_lid)\n",
    "model_lid = Wav2Vec2ForSequenceClassification.from_pretrained(model_id_lid)"
   ]
  },
  {
   "cell_type": "code",
   "execution_count": null,
   "id": "e4f55e6e",
   "metadata": {},
   "outputs": [],
   "source": [
    "def transcribe(audio):\n",
    "    audio = librosa.load(audio, sr=16_000, mono=True)[0]\n",
    "    inputs = processor(audio, sampling_rate=16_000,return_tensors=\"pt\")\n",
    "    with torch.no_grad():\n",
    "        tr_start_time = time.time()\n",
    "        outputs = model(**inputs).logits\n",
    "        tr_end_time = time.time()\n",
    "    ids = torch.argmax(outputs, dim=-1)[0]\n",
    "    transcription = processor.decode(ids)\n",
    "    return transcription,(tr_end_time-tr_start_time)"
   ]
  },
  {
   "cell_type": "code",
   "execution_count": null,
   "id": "3bc481b0",
   "metadata": {},
   "outputs": [],
   "source": [
    "def detect_language(audio):\n",
    "    audio = librosa.load(audio, sr=16_000, mono=True)[0]\n",
    "    inputs_lid = processor_lid(audio, sampling_rate=16_000, return_tensors=\"pt\")\n",
    "    with torch.no_grad():\n",
    "        start_time_lid = time.time()\n",
    "        outputs_lid = model_lid(**inputs_lid).logits\n",
    "        end_time = time.time()\n",
    "#     print(end_time-start_time,\" sec\")\n",
    "    lang_id = torch.argmax(outputs_lid, dim=-1)[0].item()\n",
    "    detected_lang = model_lid.config.id2label[lang_id]\n",
    "    return detected_lang, (end_time_lid-start_time_lid)"
   ]
  },
  {
   "cell_type": "code",
   "execution_count": null,
   "id": "899da43d",
   "metadata": {},
   "outputs": [],
   "source": [
    "def transcribe_lang(audio,lang):\n",
    "    audio = librosa.load(audio, sr=16_000, mono=True)[0]\n",
    "    processor.tokenizer.set_target_lang(lang)\n",
    "    model.load_adapter(lang)\n",
    "    print(lang)\n",
    "    inputs = processor(audio, sampling_rate=16_000,return_tensors=\"pt\")\n",
    "    with torch.no_grad():\n",
    "        tr_start_time = time.time()\n",
    "        outputs = model(**inputs).logits\n",
    "        tr_end_time = time.time()\n",
    "    ids = torch.argmax(outputs, dim=-1)[0]\n",
    "    transcription = processor.decode(ids)\n",
    "    return transcription,(tr_end_time-tr_start_time)"
   ]
  },
  {
   "cell_type": "code",
   "execution_count": null,
   "id": "37f7dc48",
   "metadata": {},
   "outputs": [],
   "source": [
    "import gradio as gr\n",
    "from asr import transcribe,detect_language,transcribe_lang\n",
    "\n",
    "demo = gr.Interface(transcribe,\n",
    "                   gr.Audio(source=\"microphone\", type=\"filepath\", label=\"Use mic\"),\n",
    "                   outputs=[\"text\",\"text\"])\n",
    "demo2 = gr.Interface(detect_language,\n",
    "                   gr.Audio(source=\"microphone\", type=\"filepath\", label=\"Use mic\"),\n",
    "                   outputs=[\"text\",\"text\"])\n",
    "demo3 = gr.Interface(transcribe_lang,\n",
    "                   inputs=[gr.Audio(source=\"microphone\", type=\"filepath\", label=\"Use mic\"),\"text\"],\n",
    "                   outputs=[\"text\",\"text\"])\n",
    "\n",
    "tabbed_interface = gr.TabbedInterface([demo,demo2,demo3],[\"Transcribe by auto detecting language\",\"Detect language\",\"Transcribe by providing language\"])\n",
    "\n",
    "with gr.Blocks() as asr:\n",
    "    tabbed_interface.render()\n",
    "asr.queue(concurrency_count=3)\n",
    "asr.launch()"
   ]
  },
  {
   "cell_type": "code",
   "execution_count": null,
   "id": "bb3be1ee",
   "metadata": {},
   "outputs": [],
   "source": []
  },
  {
   "cell_type": "code",
   "execution_count": null,
   "id": "5e64cd1c",
   "metadata": {},
   "outputs": [],
   "source": []
  },
  {
   "cell_type": "code",
   "execution_count": null,
   "id": "b4c0a19c",
   "metadata": {},
   "outputs": [],
   "source": []
  },
  {
   "cell_type": "code",
   "execution_count": null,
   "id": "33268d81",
   "metadata": {},
   "outputs": [],
   "source": []
  },
  {
   "cell_type": "code",
   "execution_count": null,
   "id": "fa29ee4e",
   "metadata": {},
   "outputs": [],
   "source": []
  },
  {
   "cell_type": "code",
   "execution_count": null,
   "id": "cb35842c",
   "metadata": {},
   "outputs": [],
   "source": []
  },
  {
   "cell_type": "code",
   "execution_count": null,
   "id": "05978610",
   "metadata": {},
   "outputs": [],
   "source": []
  },
  {
   "cell_type": "code",
   "execution_count": null,
   "id": "369ed090",
   "metadata": {},
   "outputs": [],
   "source": []
  },
  {
   "cell_type": "code",
   "execution_count": null,
   "id": "5465ed28",
   "metadata": {},
   "outputs": [],
   "source": []
  },
  {
   "cell_type": "code",
   "execution_count": null,
   "id": "3f225d2e",
   "metadata": {},
   "outputs": [],
   "source": []
  },
  {
   "cell_type": "code",
   "execution_count": null,
   "id": "6b823ed7",
   "metadata": {},
   "outputs": [],
   "source": []
  },
  {
   "cell_type": "code",
   "execution_count": null,
   "id": "e6502298",
   "metadata": {},
   "outputs": [],
   "source": []
  },
  {
   "cell_type": "code",
   "execution_count": null,
   "id": "c90b2102",
   "metadata": {},
   "outputs": [],
   "source": []
  },
  {
   "cell_type": "code",
   "execution_count": null,
   "id": "3dc94a0c",
   "metadata": {},
   "outputs": [],
   "source": []
  },
  {
   "cell_type": "code",
   "execution_count": null,
   "id": "c8a2d196",
   "metadata": {},
   "outputs": [],
   "source": []
  },
  {
   "cell_type": "code",
   "execution_count": null,
   "id": "f1639a84",
   "metadata": {},
   "outputs": [],
   "source": []
  },
  {
   "cell_type": "code",
   "execution_count": null,
   "id": "e185aaed",
   "metadata": {},
   "outputs": [],
   "source": []
  },
  {
   "cell_type": "code",
   "execution_count": null,
   "id": "3a72d9ad",
   "metadata": {},
   "outputs": [],
   "source": []
  },
  {
   "cell_type": "code",
   "execution_count": null,
   "id": "cc43d2aa",
   "metadata": {},
   "outputs": [],
   "source": []
  },
  {
   "cell_type": "code",
   "execution_count": null,
   "id": "fd1efd92",
   "metadata": {},
   "outputs": [],
   "source": []
  },
  {
   "cell_type": "code",
   "execution_count": null,
   "id": "e13493a2",
   "metadata": {},
   "outputs": [],
   "source": []
  },
  {
   "cell_type": "code",
   "execution_count": null,
   "id": "e2d09b33",
   "metadata": {},
   "outputs": [],
   "source": []
  }
 ],
 "metadata": {
  "kernelspec": {
   "display_name": "Python 3 (ipykernel)",
   "language": "python",
   "name": "python3"
  },
  "language_info": {
   "codemirror_mode": {
    "name": "ipython",
    "version": 3
   },
   "file_extension": ".py",
   "mimetype": "text/x-python",
   "name": "python",
   "nbconvert_exporter": "python",
   "pygments_lexer": "ipython3",
   "version": "3.11.5"
  }
 },
 "nbformat": 4,
 "nbformat_minor": 5
}
